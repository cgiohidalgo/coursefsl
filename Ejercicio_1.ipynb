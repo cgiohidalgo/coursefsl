{
 "cells": [
  {
   "cell_type": "markdown",
   "id": "optimum-trace",
   "metadata": {
    "nbgrader": {
     "grade": false,
     "grade_id": "cell-16a662c30aa1b1bd",
     "locked": true,
     "schema_version": 3,
     "solution": false,
     "task": false
    }
   },
   "source": [
    "## Desarrolle los siguientes ejercicios\n",
    "\n",
    "1. 1+1 = **2**\n",
    "2. ? operación 2 = **7** (+, -, *, /)\n",
    "3. Evaluar la raíz cuadrada de 16 = **?**\n",
    "4. Sin[?] = **0**\n",
    "\n",
    "***NOTA:**<span role=\"presentation\" style=\"padding-right: 0.1px;background: burlywood;\"> Para resolver los ejercios correctamente, deberá usar la función print.<br>__Ejemplo: print(1+1)__</span>     "
   ]
  },
  {
   "cell_type": "markdown",
   "id": "complimentary-cheat",
   "metadata": {},
   "source": [
    "### Importar librerías"
   ]
  },
  {
   "cell_type": "code",
   "execution_count": 1,
   "id": "precious-nicholas",
   "metadata": {},
   "outputs": [],
   "source": [
    "# Recuerde importar una libreria y usar los métodos necesarios\n",
    "from math import sqrt, sin"
   ]
  },
  {
   "cell_type": "markdown",
   "id": "american-contribution",
   "metadata": {},
   "source": [
    "### Imprimir resultados"
   ]
  },
  {
   "cell_type": "code",
   "execution_count": 4,
   "id": "opponent-occasions",
   "metadata": {
    "nbgrader": {
     "grade": false,
     "grade_id": "cell-88920d9cfdf42cbc",
     "locked": false,
     "schema_version": 3,
     "solution": true,
     "task": false
    }
   },
   "outputs": [
    {
     "name": "stdout",
     "output_type": "stream",
     "text": [
      "2\n",
      "7\n",
      "4\n",
      "-0.27941549819892586\n"
     ]
    }
   ],
   "source": [
    "### BEGIN\n",
    "print(1+1)\n",
    "print(int(14/2))\n",
    "print(int(sqrt(16)))\n",
    "print(sin(6))\n",
    "### END"
   ]
  },
  {
   "cell_type": "markdown",
   "id": "general-refund",
   "metadata": {},
   "source": [
    "### Validar resultados"
   ]
  },
  {
   "cell_type": "code",
   "execution_count": 17,
   "id": "metropolitan-logging",
   "metadata": {
    "nbgrader": {
     "grade": true,
     "grade_id": "cell-cfaffde48e089580",
     "locked": true,
     "points": 5,
     "schema_version": 3,
     "solution": false,
     "task": false
    }
   },
   "outputs": [],
   "source": [
    "assert 1+1 == 2\n",
    "### BEGIN HIDDEN TESTS\n",
    "assert int(14/2) == 7\n",
    "assert int(sqrt(16)) == 4\n",
    "assert sin(0) == 0\n",
    "### END HIDDEN TESTS"
   ]
  },
  {
   "cell_type": "code",
   "execution_count": null,
   "id": "fitting-colors",
   "metadata": {},
   "outputs": [],
   "source": []
  }
 ],
 "metadata": {
  "celltoolbar": "Create Assignment",
  "hide_input": false,
  "kernelspec": {
   "display_name": "Python 3",
   "language": "python",
   "name": "python3"
  },
  "language_info": {
   "codemirror_mode": {
    "name": "ipython",
    "version": 3
   },
   "file_extension": ".py",
   "mimetype": "text/x-python",
   "name": "python",
   "nbconvert_exporter": "python",
   "pygments_lexer": "ipython3",
   "version": "3.8.5"
  },
  "toc": {
   "base_numbering": 1,
   "nav_menu": {},
   "number_sections": true,
   "sideBar": true,
   "skip_h1_title": false,
   "title_cell": "Table of Contents",
   "title_sidebar": "Contents",
   "toc_cell": false,
   "toc_position": {},
   "toc_section_display": true,
   "toc_window_display": false
  },
  "varInspector": {
   "cols": {
    "lenName": 16,
    "lenType": 16,
    "lenVar": 40
   },
   "kernels_config": {
    "python": {
     "delete_cmd_postfix": "",
     "delete_cmd_prefix": "del ",
     "library": "var_list.py",
     "varRefreshCmd": "print(var_dic_list())"
    },
    "r": {
     "delete_cmd_postfix": ") ",
     "delete_cmd_prefix": "rm(",
     "library": "var_list.r",
     "varRefreshCmd": "cat(var_dic_list()) "
    }
   },
   "types_to_exclude": [
    "module",
    "function",
    "builtin_function_or_method",
    "instance",
    "_Feature"
   ],
   "window_display": false
  }
 },
 "nbformat": 4,
 "nbformat_minor": 5
}
