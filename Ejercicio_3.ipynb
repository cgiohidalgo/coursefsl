{
 "cells": [
  {
   "cell_type": "markdown",
   "id": "coordinate-metabolism",
   "metadata": {
    "nbgrader": {
     "grade": false,
     "grade_id": "cell-118da716d6c6d473",
     "locked": true,
     "schema_version": 3,
     "solution": false,
     "task": false
    }
   },
   "source": [
    "## Desarrolle una función que retorne la media de una lista de valores\n",
    "\n",
    "La **media** es el promedio o la suma de todos los valores dividido entre la cantidad de valores."
   ]
  },
  {
   "cell_type": "code",
   "execution_count": 5,
   "id": "surprising-missouri",
   "metadata": {
    "nbgrader": {
     "grade": false,
     "grade_id": "cell-bc65578e77764bf5",
     "locked": false,
     "schema_version": 3,
     "solution": true,
     "task": false
    }
   },
   "outputs": [
    {
     "name": "stdout",
     "output_type": "stream",
     "text": [
      "1.2727272727272727\n"
     ]
    }
   ],
   "source": [
    "def mediaNumeros(lista):\n",
    "    ### BEGIN\n",
    "    media = sum(lista)/len(lista)\n",
    "    return media \n",
    "    ### END\n",
    "\n",
    "#con print comprueba los casos de salida\n",
    "print(mediaNumeros([3, 2, 6, 1, 7, -4, -12, 0, 0, 10, 1])) # = peso es normal"
   ]
  },
  {
   "cell_type": "markdown",
   "id": "champion-stewart",
   "metadata": {},
   "source": [
    "### Validar resultados"
   ]
  },
  {
   "cell_type": "code",
   "execution_count": 6,
   "id": "warming-filter",
   "metadata": {
    "nbgrader": {
     "grade": true,
     "grade_id": "cell-4dc7554895f600b1",
     "locked": true,
     "points": 5,
     "schema_version": 3,
     "solution": false,
     "task": false
    }
   },
   "outputs": [],
   "source": [
    "assert mediaNumeros([1, 2, 3, 4, 5, 6]) == 3.5\n",
    "assert mediaNumeros([0, 1, 2, 0, 1, 2, 3, 4]) == 1.625\n",
    "assert mediaNumeros([0, 1, 2, 3, 4, 5, 6, 7, 8, 9, 10, 11, 12, 13, 14]) == 7.0\n",
    "### BEGIN HIDDEN TESTS\n",
    "assert mediaNumeros([3, 2, 6, 1, 7, -4]) == 2.5\n",
    "assert mediaNumeros([3, 2, 6, 1, 7, -4, -12, 0, 0, 10, 1]) == 1.2727272727272727\n",
    "### END HIDDEN TESTS"
   ]
  },
  {
   "cell_type": "code",
   "execution_count": null,
   "id": "latter-marketing",
   "metadata": {},
   "outputs": [],
   "source": []
  }
 ],
 "metadata": {
  "celltoolbar": "Create Assignment",
  "kernelspec": {
   "display_name": "Python 3",
   "language": "python",
   "name": "python3"
  },
  "language_info": {
   "codemirror_mode": {
    "name": "ipython",
    "version": 3
   },
   "file_extension": ".py",
   "mimetype": "text/x-python",
   "name": "python",
   "nbconvert_exporter": "python",
   "pygments_lexer": "ipython3",
   "version": "3.8.5"
  }
 },
 "nbformat": 4,
 "nbformat_minor": 5
}
