{
 "cells": [
  {
   "cell_type": "markdown",
   "id": "portuguese-thought",
   "metadata": {
    "nbgrader": {
     "grade": false,
     "grade_id": "cell-21b87f41634683b2",
     "locked": true,
     "schema_version": 3,
     "solution": false,
     "task": false
    }
   },
   "source": [
    "## Desarrolle una función que retorne el resulado de elevar una cantidad a una potencia"
   ]
  },
  {
   "cell_type": "code",
   "execution_count": 8,
   "id": "signed-cartridge",
   "metadata": {
    "nbgrader": {
     "grade": false,
     "grade_id": "cell-6a9b79d8c6bc16bb",
     "locked": false,
     "schema_version": 3,
     "solution": true,
     "task": false
    }
   },
   "outputs": [
    {
     "name": "stdout",
     "output_type": "stream",
     "text": [
      "8\n"
     ]
    }
   ],
   "source": [
    "def elevarCuadrado(valor,exponente):\n",
    "    ### BEGIN\n",
    "    valorexp = valor ** exponente\n",
    "    return int(valorexp) \n",
    "    ### END\n",
    "\n",
    "#con print comprueba los casos de salida\n",
    "print(elevarCuadrado(2, 3))"
   ]
  },
  {
   "cell_type": "markdown",
   "id": "adult-moscow",
   "metadata": {},
   "source": [
    "### Validar resultados"
   ]
  },
  {
   "cell_type": "code",
   "execution_count": 9,
   "id": "bulgarian-wednesday",
   "metadata": {
    "nbgrader": {
     "grade": true,
     "grade_id": "cell-0d1fe3cb1c9aa2e5",
     "locked": true,
     "points": 5,
     "schema_version": 3,
     "solution": false,
     "task": false
    }
   },
   "outputs": [],
   "source": [
    "assert elevarCuadrado(2, 3) == 8\n",
    "assert elevarCuadrado(3, 20) == 3486784401\n",
    "### BEGIN HIDDEN TESTS\n",
    "assert elevarCuadrado(10, 10) == 10000000000\n",
    "assert elevarCuadrado(6, 7) == 279936\n",
    "assert elevarCuadrado(-6, 7) == -279936\n",
    "### END HIDDEN TESTS"
   ]
  },
  {
   "cell_type": "code",
   "execution_count": null,
   "id": "collect-future",
   "metadata": {},
   "outputs": [],
   "source": []
  }
 ],
 "metadata": {
  "celltoolbar": "Create Assignment",
  "kernelspec": {
   "display_name": "Python 3 (ipykernel)",
   "language": "python",
   "name": "python3"
  },
  "language_info": {
   "codemirror_mode": {
    "name": "ipython",
    "version": 3
   },
   "file_extension": ".py",
   "mimetype": "text/x-python",
   "name": "python",
   "nbconvert_exporter": "python",
   "pygments_lexer": "ipython3",
   "version": "3.9.6"
  }
 },
 "nbformat": 4,
 "nbformat_minor": 5
}
